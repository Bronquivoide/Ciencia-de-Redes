{
 "cells": [
  {
   "cell_type": "markdown",
   "id": "b86732b5-2a9e-47da-9cd7-46c7983d9b84",
   "metadata": {},
   "source": [
    "<span style=\"font-size:30px\">**Medidas de centralidad de los nodos. Parte 3: Centralidad de Intermediación.**</span> \n",
    "    \n",
    "<span style=\"font-family: 'Verdana'; color: red;\"> *Bronquivoide* </span>\n",
    "\n",
    "# Fundamentos de la centralidad de intermediación:"
   ]
  },
  {
   "cell_type": "code",
   "execution_count": null,
   "id": "48e0dba8-f5e6-4fb5-9813-e277e491fab7",
   "metadata": {},
   "outputs": [],
   "source": []
  }
 ],
 "metadata": {
  "kernelspec": {
   "display_name": "Python 3 (ipykernel)",
   "language": "python",
   "name": "python3"
  },
  "language_info": {
   "codemirror_mode": {
    "name": "ipython",
    "version": 3
   },
   "file_extension": ".py",
   "mimetype": "text/x-python",
   "name": "python",
   "nbconvert_exporter": "python",
   "pygments_lexer": "ipython3",
   "version": "3.12.3"
  }
 },
 "nbformat": 4,
 "nbformat_minor": 5
}
